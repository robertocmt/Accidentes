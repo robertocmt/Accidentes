{
 "cells": [
  {
   "cell_type": "code",
   "execution_count": 1,
   "metadata": {},
   "outputs": [],
   "source": [
    "from pyspark.sql import SQLContext\n",
    "import matplotlib.pyplot as plt\n",
    "import numpy as np\n",
    "import pandas as pd\n",
    "from matplotlib.backends.backend_agg import FigureCanvasAgg as FigureCanvas\n",
    "from matplotlib.figure import Figure\n",
    "from flask import Flask\n",
    "import io\n",
    "from flask import Response"
   ]
  },
  {
   "cell_type": "code",
   "execution_count": 2,
   "metadata": {},
   "outputs": [],
   "source": [
    "sqlContext = SQLContext(sc)\n",
    "c_total_2017 = sqlContext.read.format(\"org.apache.spark.sql.cassandra\").options(table=\"c_total_2017\", keyspace=\"dgt\").load()\n",
    "c_total_2016 = sqlContext.read.format(\"org.apache.spark.sql.cassandra\").options(table=\"c_total_2016\", keyspace=\"dgt\").load()\n",
    "c_total_2015 = sqlContext.read.format(\"org.apache.spark.sql.cassandra\").options(table=\"c_total_2015\", keyspace=\"dgt\").load()"
   ]
  },
  {
   "cell_type": "code",
   "execution_count": 3,
   "metadata": {},
   "outputs": [],
   "source": [
    "p_total_2017 = sqlContext.read.format(\"org.apache.spark.sql.cassandra\").options(table=\"p_total_2017\", keyspace=\"dgt\").load()\n",
    "p_total_2016 = sqlContext.read.format(\"org.apache.spark.sql.cassandra\").options(table=\"p_total_2016\", keyspace=\"dgt\").load()\n",
    "p_total_2015 = sqlContext.read.format(\"org.apache.spark.sql.cassandra\").options(table=\"p_total_2015\", keyspace=\"dgt\").load()"
   ]
  },
  {
   "cell_type": "code",
   "execution_count": 4,
   "metadata": {},
   "outputs": [],
   "source": [
    "t_total_2017 = sqlContext.read.format(\"org.apache.spark.sql.cassandra\").options(table=\"t_total_2017\", keyspace=\"dgt\").load()\n",
    "t_total_2016 = sqlContext.read.format(\"org.apache.spark.sql.cassandra\").options(table=\"t_total_2016\", keyspace=\"dgt\").load()\n",
    "t_total_2015 = sqlContext.read.format(\"org.apache.spark.sql.cassandra\").options(table=\"t_total_2015\", keyspace=\"dgt\").load()"
   ]
  },
  {
   "cell_type": "code",
   "execution_count": 14,
   "metadata": {},
   "outputs": [],
   "source": [
    "df_c_total_2017 = c_total_2017.select('comunidad_autonoma', 'fallecidos').where(\"comunidad_autonoma NOT LIKE 'Total'\").toPandas()\n",
    "df_c_total_2016 = c_total_2016.select('comunidades_autonomas', 'fallecidos').where(\"comunidades_autonomas NOT LIKE 'Total'\").toPandas()\n",
    "df_c_total_2015 = c_total_2015.select('comunidades_autonomas', 'fallecidos').where(\"comunidades_autonomas NOT LIKE 'Total'\").toPandas()"
   ]
  },
  {
   "cell_type": "code",
   "execution_count": 15,
   "metadata": {},
   "outputs": [],
   "source": [
    "p_total_2017 = p_total_2017.withColumnRenamed('a_mortales', 'a_mortales_2017')\n",
    "p_total_2016 = p_total_2016.withColumnRenamed('a_mortales', 'a_mortales_2016')\n",
    "p_total_2015 = p_total_2015.withColumnRenamed('a_mortales', 'a_mortales_2015')\n",
    "join_total = p_total_2017.join(p_total_2016, 'provincia').join(p_total_2015, 'provincia')"
   ]
  },
  {
   "cell_type": "code",
   "execution_count": 16,
   "metadata": {},
   "outputs": [],
   "source": [
    "def gr_c_total_2017():\n",
    "    plt.rcParams[\"figure.figsize\"] = (20,10)\n",
    "    fig = Figure()\n",
    "    axis = fig.add_subplot(1, 1, 1)\n",
    "    df_c_total_2017.plot(ax=axis, kind='barh', x='comunidad_autonoma', y='fallecidos', color='red')\n",
    "    return fig\n",
    "\n",
    "def gr_c_total_2016():\n",
    "    plt.rcParams[\"figure.figsize\"] = (20,10)\n",
    "    fig = Figure()\n",
    "    axis = fig.add_subplot(1, 1, 1)\n",
    "    df_c_total_2016.plot(ax=axis, kind='barh', x='comunidades_autonomas', y='fallecidos', color='red')\n",
    "    return fig\n",
    "\n",
    "def gr_c_total_2015():\n",
    "    plt.rcParams[\"figure.figsize\"] = (20,10)\n",
    "    fig = Figure()\n",
    "    axis = fig.add_subplot(1, 1, 1)\n",
    "    df_c_total_2015.plot(ax=axis, kind='barh', x='comunidades_autonomas', y='fallecidos', color='red')\n",
    "    return fig"
   ]
  },
  {
   "cell_type": "code",
   "execution_count": 17,
   "metadata": {},
   "outputs": [],
   "source": [
    "def df_buscar(provincia):\n",
    "    df_busqueda = join_total.select(\"provincia\", \"a_mortales_2017\", \"a_mortales_2016\", \"a_mortales_2015\").where('provincia like \"{}\"'.format(provincia)).toPandas()\n",
    "    return df_busqueda"
   ]
  },
  {
   "cell_type": "code",
   "execution_count": 18,
   "metadata": {},
   "outputs": [],
   "source": [
    "def grafica_busqueda(provincia):\n",
    "    plt.rcParams[\"figure.figsize\"] = (10,10)\n",
    "    fig = Figure()\n",
    "    axis = fig.add_subplot(1, 1, 1)\n",
    "    df_busqueda = df_buscar(provincia)\n",
    "    df_busqueda.plot(ax=axis, kind='bar', x='provincia', y=['a_mortales_2017', 'a_mortales_2016', 'a_mortales_2015'], color=['red', 'darkred', 'firebrick'])\n",
    "    return fig"
   ]
  },
  {
   "cell_type": "code",
   "execution_count": 19,
   "metadata": {},
   "outputs": [],
   "source": [
    "df_t_total_2017 = t_total_2017.select('tipo_accidente', 'fallecidos').where('tipo_accidente NOT LIKE \"Total\"').toPandas()\n",
    "df_t_total_2016 = t_total_2016.select('tipo_accidente', 'fallecidos').where('tipo_accidente NOT LIKE \"Total\"').toPandas()\n",
    "df_t_total_2015 = t_total_2015.select('tipo_accidente', 'fallecidos').where('tipo_accidente NOT LIKE \"Total\"').toPandas()"
   ]
  },
  {
   "cell_type": "code",
   "execution_count": 20,
   "metadata": {},
   "outputs": [],
   "source": [
    "def gr_t_total_2017():\n",
    "    plt.rcParams[\"figure.figsize\"] = (20,10)\n",
    "    fig = Figure()\n",
    "    axis = fig.add_subplot(1, 1, 1)\n",
    "    df_t_total_2017.groupby('tipo_accidente')['fallecidos'].sum().plot(ax=axis, kind='barh', color='red')\n",
    "    return fig\n",
    "\n",
    "def gr_t_total_2016():\n",
    "    plt.rcParams[\"figure.figsize\"] = (20,10)\n",
    "    fig = Figure()\n",
    "    axis = fig.add_subplot(1, 1, 1)\n",
    "    df_t_total_2016.groupby('tipo_accidente')['fallecidos'].sum().plot(ax=axis, kind='barh', color='red')\n",
    "    return fig\n",
    "\n",
    "def gr_t_total_2015():\n",
    "    plt.rcParams[\"figure.figsize\"] = (20,10)\n",
    "    fig = Figure()\n",
    "    axis = fig.add_subplot(1, 1, 1)\n",
    "    df_t_total_2015.groupby('tipo_accidente')['fallecidos'].sum().plot(ax=axis, kind='barh', color='red')\n",
    "    return fig"
   ]
  },
  {
   "cell_type": "code",
   "execution_count": 21,
   "metadata": {},
   "outputs": [],
   "source": [
    "df_p_total_2017 = p_total_2017.select('provincia', 'fallecidos').where('provincia NOT LIKE \"Total\"').toPandas()\n",
    "df_p_total_2016 = p_total_2016.select('provincia', 'fallecidos').where('provincia NOT LIKE \"Total\"').toPandas()\n",
    "df_p_total_2015 = p_total_2015.select('provincia', 'fallecidos').where('provincia NOT LIKE \"Total\"').toPandas()"
   ]
  },
  {
   "cell_type": "code",
   "execution_count": 22,
   "metadata": {},
   "outputs": [],
   "source": [
    "def gr_p_total_2017():\n",
    "    plt.rcParams[\"figure.figsize\"] = (10,10)\n",
    "    fig = Figure()\n",
    "    axis = fig.add_subplot(1, 1, 1)\n",
    "    df_p_total_2017.plot(ax=axis, kind='bar', x='provincia', y='fallecidos', color='red')\n",
    "    return fig\n",
    "\n",
    "def gr_p_total_2016():\n",
    "    plt.rcParams[\"figure.figsize\"] = (10,10)\n",
    "    fig = Figure()\n",
    "    axis = fig.add_subplot(1, 1, 1)\n",
    "    df_p_total_2016.plot(ax=axis, kind='bar', x='provincia', y='fallecidos', color='red')\n",
    "    return fig\n",
    "\n",
    "def gr_p_total_2015():\n",
    "    plt.rcParams[\"figure.figsize\"] = (10,10)\n",
    "    fig = Figure()\n",
    "    axis = fig.add_subplot(1, 1, 1)\n",
    "    df_p_total_2015.plot(ax=axis, kind='bar', x='provincia', y='fallecidos', color='red')\n",
    "    return fig"
   ]
  },
  {
   "cell_type": "code",
   "execution_count": 24,
   "metadata": {},
   "outputs": [
    {
     "name": "stdout",
     "output_type": "stream",
     "text": [
      " * Serving Flask app \"__main__\" (lazy loading)\n",
      " * Environment: production\n",
      "   WARNING: Do not use the development server in a production environment.\n",
      "   Use a production WSGI server instead.\n",
      " * Debug mode: off\n"
     ]
    },
    {
     "name": "stderr",
     "output_type": "stream",
     "text": [
      " * Running on http://192.168.2.2:5000/ (Press CTRL+C to quit)\n",
      "192.168.2.2 - - [16/Jun/2019 12:15:43] \"GET /c_total_2017.png HTTP/1.1\" 200 -\n",
      "192.168.2.2 - - [16/Jun/2019 12:15:48] \"GET /c_total_2016.png HTTP/1.1\" 200 -\n",
      "192.168.2.2 - - [16/Jun/2019 12:15:55] \"GET /c_total_2015.png HTTP/1.1\" 200 -\n",
      "192.168.2.2 - - [16/Jun/2019 12:16:05] \"GET /c_total_2017.png HTTP/1.1\" 200 -\n",
      "192.168.2.2 - - [16/Jun/2019 12:19:05] \"GET /c_total_2016.png HTTP/1.1\" 200 -\n",
      "192.168.2.2 - - [16/Jun/2019 12:20:44] \"GET /c_total_2015.png HTTP/1.1\" 200 -\n",
      "192.168.1.5 - - [16/Jun/2019 12:22:52] \"GET /c_total_2017.png HTTP/1.1\" 200 -\n",
      "192.168.1.5 - - [16/Jun/2019 12:22:54] \"GET /c_total_2016.png HTTP/1.1\" 200 -\n",
      "192.168.1.5 - - [16/Jun/2019 12:22:55] \"GET /c_total_2015.png HTTP/1.1\" 200 -\n",
      "192.168.1.5 - - [16/Jun/2019 12:22:55] \"GET /c_total_2017.png HTTP/1.1\" 200 -\n",
      "192.168.1.5 - - [16/Jun/2019 12:23:03] \"GET /c_total_2017.png HTTP/1.1\" 200 -\n",
      "192.168.1.5 - - [16/Jun/2019 12:23:10] \"GET /c_total_2017.png HTTP/1.1\" 200 -\n",
      "192.168.1.5 - - [16/Jun/2019 12:23:10] \"GET /c_total_2016.png HTTP/1.1\" 200 -\n",
      "192.168.1.5 - - [16/Jun/2019 12:23:10] \"GET /c_total_2015.png HTTP/1.1\" 200 -\n",
      "192.168.1.5 - - [16/Jun/2019 12:23:46] \"GET /c_total_2017.png HTTP/1.1\" 200 -\n",
      "192.168.1.5 - - [16/Jun/2019 12:23:46] \"GET /c_total_2016.png HTTP/1.1\" 200 -\n",
      "192.168.1.5 - - [16/Jun/2019 12:23:46] \"GET /c_total_2015.png HTTP/1.1\" 200 -\n",
      "192.168.1.5 - - [16/Jun/2019 12:23:54] \"GET /c_total_2017.png HTTP/1.1\" 200 -\n",
      "192.168.1.5 - - [16/Jun/2019 12:23:57] \"GET /c_total_2017.png HTTP/1.1\" 200 -\n",
      "192.168.1.5 - - [16/Jun/2019 12:23:57] \"GET /c_total_2016.png HTTP/1.1\" 200 -\n",
      "192.168.1.5 - - [16/Jun/2019 12:23:58] \"GET /c_total_2015.png HTTP/1.1\" 200 -\n",
      "192.168.1.5 - - [16/Jun/2019 12:24:01] \"GET /c_total_2017.png HTTP/1.1\" 200 -\n",
      "192.168.1.5 - - [16/Jun/2019 12:24:18] \"GET /c_total_2017.png HTTP/1.1\" 200 -\n",
      "192.168.1.5 - - [16/Jun/2019 12:24:18] \"GET /c_total_2016.png HTTP/1.1\" 200 -\n",
      "192.168.1.5 - - [16/Jun/2019 12:24:19] \"GET /c_total_2015.png HTTP/1.1\" 200 -\n",
      "192.168.1.5 - - [16/Jun/2019 12:24:22] \"GET /c_total_2017.png HTTP/1.1\" 200 -\n"
     ]
    }
   ],
   "source": [
    "app = Flask(__name__)\n",
    "@app.route(\"/c_total_2017.png\")\n",
    "def c_total_2017():\n",
    "    fig = gr_c_total_2017()\n",
    "    output = io.BytesIO()\n",
    "    FigureCanvas(fig).print_png(output)\n",
    "    return Response(output.getvalue(), mimetype='image/png')\n",
    "\n",
    "@app.route(\"/c_total_2016.png\")\n",
    "def c_total_2016():\n",
    "    fig = gr_c_total_2016()\n",
    "    output = io.BytesIO()\n",
    "    FigureCanvas(fig).print_png(output)\n",
    "    return Response(output.getvalue(), mimetype='image/png')\n",
    "\n",
    "@app.route(\"/c_total_2015.png\")\n",
    "def c_total_2015():\n",
    "    fig = gr_c_total_2015()\n",
    "    output = io.BytesIO()\n",
    "    FigureCanvas(fig).print_png(output)\n",
    "    return Response(output.getvalue(), mimetype='image/png')\n",
    "\n",
    "@app.route(\"/p_total_2017.png\")\n",
    "def p_total_2017():\n",
    "    fig = gr_p_total_2017()\n",
    "    output = io.BytesIO()\n",
    "    FigureCanvas(fig).print_png(output)\n",
    "    return Response(output.getvalue(), mimetype='image/png')\n",
    "\n",
    "@app.route(\"/p_total_2016.png\")\n",
    "def p_total_2016():\n",
    "    fig = gr_p_total_2016()\n",
    "    output = io.BytesIO()\n",
    "    FigureCanvas(fig).print_png(output)\n",
    "    return Response(output.getvalue(), mimetype='image/png')\n",
    "\n",
    "@app.route(\"/p_total_2015.png\")\n",
    "def p_total_2015():\n",
    "    fig = gr_p_total_2015()\n",
    "    output = io.BytesIO()\n",
    "    FigureCanvas(fig).print_png(output)\n",
    "    return Response(output.getvalue(), mimetype='image/png')\n",
    "\n",
    "@app.route(\"/t_total_2017.png\")\n",
    "def t_total_2017():\n",
    "    fig = gr_t_total_2017()\n",
    "    output = io.BytesIO()\n",
    "    FigureCanvas(fig).print_png(output)\n",
    "    return Response(output.getvalue(), mimetype='image/png')\n",
    "\n",
    "@app.route(\"/t_total_2016.png\")\n",
    "def t_total_2016():\n",
    "    fig = gr_t_total_2016()\n",
    "    output = io.BytesIO()\n",
    "    FigureCanvas(fig).print_png(output)\n",
    "    return Response(output.getvalue(), mimetype='image/png')\n",
    "\n",
    "@app.route(\"/t_total_2015.png\")\n",
    "def t_total_2015():\n",
    "    fig = gr_t_total_2015()\n",
    "    output = io.BytesIO()\n",
    "    FigureCanvas(fig).print_png(output)\n",
    "    return Response(output.getvalue(), mimetype='image/png')\n",
    "\n",
    "@app.route(\"/buscar/<provincia_flask>.png\")\n",
    "def busqueda(provincia_flask):\n",
    "    fig = grafica_busqueda(provincia_flask)\n",
    "    output = io.BytesIO()\n",
    "    FigureCanvas(fig).print_png(output)\n",
    "    return Response(output.getvalue(), mimetype='image/png')\n",
    "if __name__ == \"__main__\":\n",
    "    app.run(\"192.168.2.2\")"
   ]
  }
 ],
 "metadata": {
  "kernelspec": {
   "display_name": "Python 3",
   "language": "python",
   "name": "python3"
  },
  "language_info": {
   "codemirror_mode": {
    "name": "ipython",
    "version": 3
   },
   "file_extension": ".py",
   "mimetype": "text/x-python",
   "name": "python",
   "nbconvert_exporter": "python",
   "pygments_lexer": "ipython3",
   "version": "3.5.6"
  }
 },
 "nbformat": 4,
 "nbformat_minor": 2
}
